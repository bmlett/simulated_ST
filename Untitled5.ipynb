{
 "cells": [
  {
   "cell_type": "markdown",
   "id": "a53ac678-a99f-4cf8-a461-3d7a4e61bc22",
   "metadata": {},
   "source": [
    "# Creating a toy set with spatial locations\n",
    "Want 25 spots, 5x5 size area, 4 cell types, and 10 genes. \n",
    "Need to create -  \n",
    "    1. COUNTS\n",
    "    2. COORDINATES \n",
    "    3. Cell types per \"spot\"\n",
    "    \n",
    "Number of cells per spot = 0, 1, 2 - 5  \n",
    "Per spot distribution of cells \n",
    "    0   1    2-5 \n",
    "   ---------------\n",
    "    1%  20%  75% \n",
    "    2   5    18    \n",
    "\n",
    "Per spot w/ 2-5 calucations \n",
    "    2   3   4   5\n",
    "   ---------------\n",
    "    1   8   8   1"
   ]
  },
  {
   "cell_type": "markdown",
   "id": "44e8ea22-bb10-4efa-96c3-99ec60afffc2",
   "metadata": {},
   "source": [
    "## 1. Load in packages "
   ]
  },
  {
   "cell_type": "code",
   "execution_count": 1,
   "id": "c4e1e337-d799-4a72-a99e-ff8f7f064b0f",
   "metadata": {},
   "outputs": [],
   "source": [
    "import random \n",
    "import numpy as np "
   ]
  },
  {
   "cell_type": "markdown",
   "id": "995063a3-23dd-4a20-81f4-6e83e751ec65",
   "metadata": {},
   "source": [
    "## 2 make the cell types and genes "
   ]
  },
  {
   "cell_type": "code",
   "execution_count": 13,
   "id": "21bb1a45-a5cb-42ff-ae80-0a20cacfa9c8",
   "metadata": {},
   "outputs": [],
   "source": [
    "genes = []\n",
    "for i in range(50):\n",
    "    t = \"g\" + str(i+1)\n",
    "    genes.append(t)\n",
    "cellTypes = []\n",
    "for i in range(4):\n",
    "    t = \"ct\" + str(i + 1)\n",
    "    cellTypes.append(t)"
   ]
  },
  {
   "cell_type": "code",
   "execution_count": 112,
   "id": "4bc24e47-2c94-4bf4-a8ef-38eed3b981bc",
   "metadata": {},
   "outputs": [
    {
     "name": "stdout",
     "output_type": "stream",
     "text": [
      "ct1\n"
     ]
    }
   ],
   "source": [
    "for i in range(1):\n",
    "    x = random.randint(0, 3)\n",
    "    print(cellTypes[x])"
   ]
  },
  {
   "cell_type": "code",
   "execution_count": 130,
   "id": "cdddbbea-71f8-46b9-b998-8f80d4d0de43",
   "metadata": {},
   "outputs": [
    {
     "name": "stdout",
     "output_type": "stream",
     "text": [
      "6\n",
      "8\n",
      "4\n",
      "5\n",
      "3\n",
      "5\n"
     ]
    }
   ],
   "source": [
    "for i in range(6):\n",
    "    x = random.randint(1,10)\n",
    "    print(x)"
   ]
  },
  {
   "cell_type": "code",
   "execution_count": null,
   "id": "16de7024-8fff-4f22-b1d3-629e55f20803",
   "metadata": {},
   "outputs": [],
   "source": []
  }
 ],
 "metadata": {
  "kernelspec": {
   "display_name": "Python 3 (ipykernel)",
   "language": "python",
   "name": "python3"
  },
  "language_info": {
   "codemirror_mode": {
    "name": "ipython",
    "version": 3
   },
   "file_extension": ".py",
   "mimetype": "text/x-python",
   "name": "python",
   "nbconvert_exporter": "python",
   "pygments_lexer": "ipython3",
   "version": "3.9.12"
  }
 },
 "nbformat": 4,
 "nbformat_minor": 5
}
