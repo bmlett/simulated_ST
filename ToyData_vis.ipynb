{
 "cells": [
  {
   "cell_type": "markdown",
   "id": "c5458d68-e6b9-4ed6-9cec-3dbc38b65c22",
   "metadata": {},
   "source": [
    "# \"Toy\" data \n",
    "Evaluating and setting up toy data for futur deconvolution test\n",
    "\n",
    "# 1. Import libries"
   ]
  },
  {
   "cell_type": "code",
   "execution_count": 10,
   "id": "0e97f480-32e5-4657-baaf-8dd01b5dc77d",
   "metadata": {},
   "outputs": [],
   "source": [
    "import numpy as np \n",
    "import matplotlib.pyplot as plt\n",
    "import pandas as pd"
   ]
  },
  {
   "cell_type": "markdown",
   "id": "b6814946-6f92-4d4c-992b-508f570599b2",
   "metadata": {},
   "source": [
    "# 2. Load data "
   ]
  },
  {
   "cell_type": "code",
   "execution_count": 11,
   "id": "844ea4ab-6415-4749-b04f-5d12d23f84a1",
   "metadata": {},
   "outputs": [],
   "source": [
    "composition = pd.read_csv(\"toy507/s.3/synthetic_ST_seed507_1_composition.csv\")\n",
    "umi =  pd.read_csv(\"toy507/s.4/synthetic_ST_seed507_1_umis.csv\")\n",
    "counts = pd.read_csv(\"toy507/s.4/synthetic_ST_seed507_1_counts.csv\")"
   ]
  },
  {
   "cell_type": "code",
   "execution_count": null,
   "id": "12bf2a82-bf54-4143-91fa-f3b8787a16f9",
   "metadata": {},
   "outputs": [
    {
     "data": {
      "text/html": [
       "<div>\n",
       "<style scoped>\n",
       "    .dataframe tbody tr th:only-of-type {\n",
       "        vertical-align: middle;\n",
       "    }\n",
       "\n",
       "    .dataframe tbody tr th {\n",
       "        vertical-align: top;\n",
       "    }\n",
       "\n",
       "    .dataframe thead th {\n",
       "        text-align: right;\n",
       "    }\n",
       "</style>\n",
       "<table border=\"1\" class=\"dataframe\">\n",
       "  <thead>\n",
       "    <tr style=\"text-align: right;\">\n",
       "      <th></th>\n",
       "      <th>Unnamed: 0</th>\n",
       "      <th>T cell</th>\n",
       "      <th>decidual natural killer cell</th>\n",
       "      <th>granulocyte</th>\n",
       "      <th>macrophage</th>\n",
       "      <th>plasma cell</th>\n",
       "      <th>conventional dendritic cell</th>\n",
       "      <th>extravillous trophoblast cell</th>\n",
       "      <th>decidual cell</th>\n",
       "      <th>innate lymphoid cell</th>\n",
       "      <th>endothelial cell</th>\n",
       "      <th>decidual perivascular cell</th>\n",
       "      <th>placental villous trophoblast</th>\n",
       "    </tr>\n",
       "  </thead>\n",
       "  <tbody>\n",
       "    <tr>\n",
       "      <th>0</th>\n",
       "      <td>Spotx1</td>\n",
       "      <td>0.0</td>\n",
       "      <td>0.0</td>\n",
       "      <td>12103.0</td>\n",
       "      <td>4044.0</td>\n",
       "      <td>0.0</td>\n",
       "      <td>0.0</td>\n",
       "      <td>0.0</td>\n",
       "      <td>0.0</td>\n",
       "      <td>6735.0</td>\n",
       "      <td>0.0</td>\n",
       "      <td>0.0</td>\n",
       "      <td>0.0</td>\n",
       "    </tr>\n",
       "    <tr>\n",
       "      <th>1</th>\n",
       "      <td>Spotx2</td>\n",
       "      <td>0.0</td>\n",
       "      <td>0.0</td>\n",
       "      <td>0.0</td>\n",
       "      <td>5581.0</td>\n",
       "      <td>0.0</td>\n",
       "      <td>0.0</td>\n",
       "      <td>0.0</td>\n",
       "      <td>0.0</td>\n",
       "      <td>10316.0</td>\n",
       "      <td>0.0</td>\n",
       "      <td>0.0</td>\n",
       "      <td>0.0</td>\n",
       "    </tr>\n",
       "    <tr>\n",
       "      <th>2</th>\n",
       "      <td>Spotx3</td>\n",
       "      <td>0.0</td>\n",
       "      <td>0.0</td>\n",
       "      <td>7468.0</td>\n",
       "      <td>2032.0</td>\n",
       "      <td>0.0</td>\n",
       "      <td>0.0</td>\n",
       "      <td>0.0</td>\n",
       "      <td>0.0</td>\n",
       "      <td>2238.0</td>\n",
       "      <td>0.0</td>\n",
       "      <td>0.0</td>\n",
       "      <td>0.0</td>\n",
       "    </tr>\n",
       "    <tr>\n",
       "      <th>3</th>\n",
       "      <td>Spotx4</td>\n",
       "      <td>0.0</td>\n",
       "      <td>0.0</td>\n",
       "      <td>8868.0</td>\n",
       "      <td>0.0</td>\n",
       "      <td>11559.0</td>\n",
       "      <td>0.0</td>\n",
       "      <td>0.0</td>\n",
       "      <td>0.0</td>\n",
       "      <td>5575.0</td>\n",
       "      <td>0.0</td>\n",
       "      <td>0.0</td>\n",
       "      <td>0.0</td>\n",
       "    </tr>\n",
       "    <tr>\n",
       "      <th>4</th>\n",
       "      <td>Spotx5</td>\n",
       "      <td>0.0</td>\n",
       "      <td>0.0</td>\n",
       "      <td>6676.0</td>\n",
       "      <td>4579.0</td>\n",
       "      <td>5096.0</td>\n",
       "      <td>0.0</td>\n",
       "      <td>0.0</td>\n",
       "      <td>0.0</td>\n",
       "      <td>3809.0</td>\n",
       "      <td>0.0</td>\n",
       "      <td>0.0</td>\n",
       "      <td>0.0</td>\n",
       "    </tr>\n",
       "  </tbody>\n",
       "</table>\n",
       "</div>"
      ],
      "text/plain": [
       "  Unnamed: 0  T cell  decidual natural killer cell  granulocyte  macrophage  \\\n",
       "0     Spotx1     0.0                           0.0      12103.0      4044.0   \n",
       "1     Spotx2     0.0                           0.0          0.0      5581.0   \n",
       "2     Spotx3     0.0                           0.0       7468.0      2032.0   \n",
       "3     Spotx4     0.0                           0.0       8868.0         0.0   \n",
       "4     Spotx5     0.0                           0.0       6676.0      4579.0   \n",
       "\n",
       "   plasma cell  conventional dendritic cell  extravillous trophoblast cell  \\\n",
       "0          0.0                          0.0                            0.0   \n",
       "1          0.0                          0.0                            0.0   \n",
       "2          0.0                          0.0                            0.0   \n",
       "3      11559.0                          0.0                            0.0   \n",
       "4       5096.0                          0.0                            0.0   \n",
       "\n",
       "   decidual cell  innate lymphoid cell  endothelial cell  \\\n",
       "0            0.0                6735.0               0.0   \n",
       "1            0.0               10316.0               0.0   \n",
       "2            0.0                2238.0               0.0   \n",
       "3            0.0                5575.0               0.0   \n",
       "4            0.0                3809.0               0.0   \n",
       "\n",
       "   decidual perivascular cell  placental villous trophoblast  \n",
       "0                         0.0                            0.0  \n",
       "1                         0.0                            0.0  \n",
       "2                         0.0                            0.0  \n",
       "3                         0.0                            0.0  \n",
       "4                         0.0                            0.0  "
      ]
     },
     "execution_count": 7,
     "metadata": {},
     "output_type": "execute_result"
    }
   ],
   "source": [
    "#composition.head()\n",
    "#counts.head()\n",
    "#umi.head()"
   ]
  },
  {
   "cell_type": "markdown",
   "id": "22429fba-87bd-4bf4-97f6-1ed3ceee7576",
   "metadata": {},
   "source": [
    "Need to reformate the counts file to be gene x spot rather than spot x gene "
   ]
  },
  {
   "cell_type": "code",
   "execution_count": 12,
   "id": "0f08da2d-7ee5-4a62-b891-7086f82a4eef",
   "metadata": {},
   "outputs": [],
   "source": [
    "t = counts.T\n",
    "t.to_csv(\"toy507/Counts_reformated.csv\", sep=\",\", header=False)"
   ]
  },
  {
   "cell_type": "code",
   "execution_count": 13,
   "id": "f5af9d93-a39d-4ed7-8fed-e3e5c119d6bb",
   "metadata": {},
   "outputs": [],
   "source": [
    "counts = pd.read_csv(\"toy507/Counts_reformated.csv\")"
   ]
  },
  {
   "cell_type": "markdown",
   "id": "2d214271-c79f-4f09-b294-90655302ba7f",
   "metadata": {},
   "source": [
    "# 3. Data summary and visulization\n",
    "\n",
    "Counts data"
   ]
  },
  {
   "cell_type": "code",
   "execution_count": 88,
   "id": "4830ea95-ca92-408b-8fa4-4d39c61780b0",
   "metadata": {},
   "outputs": [],
   "source": [
    "counts.loc[\"total\"] = counts.sum()\n",
    "counts.at[\"total\", \"Unnamed: 0\"] = \"NaN\""
   ]
  },
  {
   "cell_type": "code",
   "execution_count": 80,
   "id": "73c92941-3e89-485b-928e-272264dbd180",
   "metadata": {},
   "outputs": [
    {
     "data": {
      "text/plain": [
       "(array([17., 34., 15., 15.,  7.,  2.,  7.,  1.,  1.,  1.]),\n",
       " array([0.0, 2917.3, 5834.6, 8751.900000000001, 11669.2, 14586.5,\n",
       "        17503.800000000003, 20421.100000000002, 23338.4, 26255.7, 29173.0],\n",
       "       dtype=object),\n",
       " <BarContainer object of 10 artists>)"
      ]
     },
     "execution_count": 80,
     "metadata": {},
     "output_type": "execute_result"
    },
    {
     "data": {
      "image/png": "[encoded data removed]",
      "text/plain": [
       "<Figure size 432x288 with 1 Axes>"
      ]
     },
     "metadata": {
      "needs_background": "light"
     },
     "output_type": "display_data"
    }
   ],
   "source": [
    "plt.hist(counts.loc[\"total\"].iloc[1:])"
   ]
  },
  {
   "cell_type": "markdown",
   "id": "c1c1c21a-f5af-4b48-bf48-66f100030b53",
   "metadata": {},
   "source": [
    "Cell type"
   ]
  },
  {
   "cell_type": "code",
   "execution_count": 91,
   "id": "d6639fa5-ae7b-4ae9-b054-40afde1ed464",
   "metadata": {},
   "outputs": [
    {
     "data": {
      "text/plain": [
       "0                            T cell\n",
       "1      decidual natural killer cell\n",
       "2                        macrophage\n",
       "3                       granulocyte\n",
       "4                       plasma cell\n",
       "5     extravillous trophoblast cell\n",
       "6       conventional dendritic cell\n",
       "7                     decidual cell\n",
       "8              innate lymphoid cell\n",
       "9                  endothelial cell\n",
       "10       decidual perivascular cell\n",
       "11    placental villous trophoblast\n",
       "Name: Unnamed: 0, dtype: object"
      ]
     },
     "execution_count": 91,
     "metadata": {},
     "output_type": "execute_result"
    }
   ],
   "source": [
    "composition[\"Unnamed: 0\"]"
   ]
  },
  {
   "cell_type": "code",
   "execution_count": 95,
   "id": "3b193898-e2ee-42b6-84b3-158103270445",
   "metadata": {},
   "outputs": [
    {
     "name": "stderr",
     "output_type": "stream",
     "text": [
      "C:\\Users\\trigg\\AppData\\Local\\Temp\\ipykernel_8124\\3724187900.py:1: FutureWarning: Dropping of nuisance columns in DataFrame reductions (with 'numeric_only=None') is deprecated; in a future version this will raise TypeError.  Select only valid columns before calling the reduction.\n",
      "  max_elements = composition.max(axis=1)\n",
      "C:\\Users\\trigg\\AppData\\Local\\Temp\\ipykernel_8124\\3724187900.py:2: FutureWarning: Dropping of nuisance columns in DataFrame reductions (with 'numeric_only=None') is deprecated; in a future version this will raise TypeError.  Select only valid columns before calling the reduction.\n",
      "  min_elements = composition.min(axis=1)\n"
     ]
    }
   ],
   "source": []
  },
  {
   "cell_type": "code",
   "execution_count": null,
   "id": "0bdb32a6-8c6c-42fa-8390-109de4d1e4a1",
   "metadata": {},
   "outputs": [],
   "source": []
  }
 ],
 "metadata": {
  "kernelspec": {
   "display_name": "Python 3 (ipykernel)",
   "language": "python",
   "name": "python3"
  },
  "language_info": {
   "codemirror_mode": {
    "name": "ipython",
    "version": 3
   },
   "file_extension": ".py",
   "mimetype": "text/x-python",
   "name": "python",
   "nbconvert_exporter": "python",
   "pygments_lexer": "ipython3",
   "version": "3.9.12"
  }
 },
 "nbformat": 4,
 "nbformat_minor": 5
}
